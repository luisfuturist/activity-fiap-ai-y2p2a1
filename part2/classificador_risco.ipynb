{
  "cells": [
    {
      "cell_type": "markdown",
      "id": "322b859e",
      "metadata": {
        "id": "322b859e"
      },
      "source": [
        "# Classificador de Risco Médico com TF-IDF e Regressão Logística\n",
        "\n",
        "Este notebook demonstra a criação de um classificador de texto para identificar frases de diagnósticos médicos como de 'alto risco' ou 'baixo risco'. Utilizamos TF-IDF para vetorização do texto e Regressão Logística para a classificação.\n",
        "\n",
        "## 1. Configuração e Importação de Bibliotecas"
      ]
    },
    {
      "cell_type": "code",
      "source": [
        "from google.colab import drive\n",
        "drive.mount('/content/drive')"
      ],
      "metadata": {
        "colab": {
          "base_uri": "https://localhost:8080/"
        },
        "id": "JxVG95-fKUHa",
        "outputId": "3a59f6d4-1a5b-4063-c507-a29926b2c0fc"
      },
      "id": "JxVG95-fKUHa",
      "execution_count": null,
      "outputs": [
        {
          "output_type": "stream",
          "name": "stdout",
          "text": [
            "Mounted at /content/drive\n"
          ]
        }
      ]
    },
    {
      "cell_type": "code",
      "execution_count": null,
      "id": "d6bbc82b",
      "metadata": {
        "id": "d6bbc82b"
      },
      "outputs": [],
      "source": [
        "import pandas as pd\n",
        "from sklearn.feature_extraction.text import TfidfVectorizer\n",
        "from sklearn.linear_model import LogisticRegression\n",
        "from sklearn.model_selection import train_test_split\n",
        "from sklearn.metrics import accuracy_score, classification_report\n",
        "import joblib\n",
        "import os"
      ]
    },
    {
      "cell_type": "markdown",
      "id": "a56e5742",
      "metadata": {
        "id": "a56e5742"
      },
      "source": [
        "## 2. Carregamento dos Dados\n",
        "\n",
        "Carregamos o arquivo `diagnosticos.csv` que contém as frases e suas respectivas situações de risco."
      ]
    },
    {
      "cell_type": "code",
      "execution_count": null,
      "id": "665a5124",
      "metadata": {
        "id": "665a5124",
        "colab": {
          "base_uri": "https://localhost:8080/"
        },
        "outputId": "a80b047b-b2e2-4779-825a-4538f13b8ccf"
      },
      "outputs": [
        {
          "output_type": "stream",
          "name": "stdout",
          "text": [
            "                                        frase     situacao\n",
            "0            sinto dor no peito e falta de ar   alto risco\n",
            "1            tive um leve incômodo nas costas  baixo risco\n",
            "2  meu coração está acelerado e sinto tontura   alto risco\n",
            "3    sinto um cansaço leve depois de caminhar  baixo risco\n",
            "4         perdi o apetite e estou com náuseas   alto risco\n"
          ]
        }
      ],
      "source": [
        "data = pd.read_csv('/content/drive/MyDrive/FIAP/FASE 1 2025/diagnosticos/diagnosticos.csv')\n",
        "print(data.head())"
      ]
    },
    {
      "cell_type": "markdown",
      "id": "15aa3669",
      "metadata": {
        "id": "15aa3669"
      },
      "source": [
        "## 3. Preparação dos Dados\n",
        "\n",
        "Dividimos os dados em conjuntos de treinamento e teste e aplicamos a vetorização TF-IDF."
      ]
    },
    {
      "cell_type": "code",
      "execution_count": null,
      "id": "2633011e",
      "metadata": {
        "id": "2633011e",
        "colab": {
          "base_uri": "https://localhost:8080/"
        },
        "outputId": "990336c0-c60f-4769-a995-6950e6d3fdcc"
      },
      "outputs": [
        {
          "output_type": "stream",
          "name": "stdout",
          "text": [
            "Shape de X_train_vec: (16, 64)\n",
            "Shape de X_test_vec: (4, 64)\n"
          ]
        }
      ],
      "source": [
        "# Separar features (X) e target (y)\n",
        "X = data['frase']\n",
        "y = data['situacao']\n",
        "\n",
        "# Dividir os dados em treino e teste\n",
        "X_train, X_test, y_train, y_test = train_test_split(X, y, test_size=0.2, random_state=42)\n",
        "\n",
        "# Inicializar e treinar o vetorizador TF-IDF\n",
        "vectorizer = TfidfVectorizer()\n",
        "X_train_vec = vectorizer.fit_transform(X_train)\n",
        "X_test_vec = vectorizer.transform(X_test)\n",
        "\n",
        "print(f'Shape de X_train_vec: {X_train_vec.shape}')\n",
        "print(f'Shape de X_test_vec: {X_test_vec.shape}')"
      ]
    },
    {
      "cell_type": "markdown",
      "id": "53f3cb08",
      "metadata": {
        "id": "53f3cb08"
      },
      "source": [
        "## 4. Treinamento do Modelo\n",
        "\n",
        "Utilizamos um modelo de Regressão Logística para classificar as frases."
      ]
    },
    {
      "cell_type": "code",
      "execution_count": null,
      "id": "8716cafa",
      "metadata": {
        "id": "8716cafa",
        "colab": {
          "base_uri": "https://localhost:8080/"
        },
        "outputId": "cc902626-e432-4937-f5c3-6c111a029150"
      },
      "outputs": [
        {
          "output_type": "stream",
          "name": "stdout",
          "text": [
            "Modelo treinado com sucesso.\n"
          ]
        }
      ],
      "source": [
        "model = LogisticRegression(max_iter=1000) # Aumentar max_iter para convergência\n",
        "model.fit(X_train_vec, y_train)\n",
        "\n",
        "print('Modelo treinado com sucesso.')"
      ]
    },
    {
      "cell_type": "markdown",
      "id": "1dd6d58b",
      "metadata": {
        "id": "1dd6d58b"
      },
      "source": [
        "## 5. Avaliação do Modelo\n",
        "\n",
        "Avaliamos o desempenho do modelo nos dados de teste."
      ]
    },
    {
      "cell_type": "code",
      "execution_count": null,
      "id": "9020286c",
      "metadata": {
        "id": "9020286c",
        "colab": {
          "base_uri": "https://localhost:8080/"
        },
        "outputId": "683e3257-4ae4-47a3-a60c-1be83f770873"
      },
      "outputs": [
        {
          "output_type": "stream",
          "name": "stdout",
          "text": [
            "Acurácia do modelo: 0.75\n",
            "Relatório de Classificação:\n",
            "              precision    recall  f1-score   support\n",
            "\n",
            "  alto risco       0.50      1.00      0.67         1\n",
            " baixo risco       1.00      0.67      0.80         3\n",
            "\n",
            "    accuracy                           0.75         4\n",
            "   macro avg       0.75      0.83      0.73         4\n",
            "weighted avg       0.88      0.75      0.77         4\n",
            "\n"
          ]
        }
      ],
      "source": [
        "y_pred = model.predict(X_test_vec)\n",
        "accuracy = accuracy_score(y_test, y_pred)\n",
        "\n",
        "print(f'Acurácia do modelo: {accuracy:.2f}')\n",
        "print('Relatório de Classificação:')\n",
        "print(classification_report(y_test, y_pred))"
      ]
    },
    {
      "cell_type": "markdown",
      "id": "93cdaeb8",
      "metadata": {
        "id": "93cdaeb8"
      },
      "source": [
        "## 6. Salvamento do Modelo e Vetorizador\n",
        "\n",
        "Salvamos o modelo treinado e o vetorizador TF-IDF para uso futuro."
      ]
    },
    {
      "cell_type": "code",
      "execution_count": null,
      "id": "b023cdb9",
      "metadata": {
        "id": "b023cdb9",
        "colab": {
          "base_uri": "https://localhost:8080/"
        },
        "outputId": "03242d07-a9c3-4af2-f45d-da92049ccefc"
      },
      "outputs": [
        {
          "output_type": "stream",
          "name": "stdout",
          "text": [
            "Modelo e vetorizador salvos com sucesso.\n"
          ]
        }
      ],
      "source": [
        "joblib.dump(model, 'risk_classifier_model.pkl')\n",
        "joblib.dump(vectorizer, 'tfidf_vectorizer.pkl')\n",
        "\n",
        "print('Modelo e vetorizador salvos com sucesso.')"
      ]
    },
    {
      "cell_type": "markdown",
      "id": "2b000e00",
      "metadata": {
        "id": "2b000e00"
      },
      "source": [
        "## 7. Função de Predição\n",
        "\n",
        "Criamos uma função para prever o risco de novas frases usando o modelo salvo."
      ]
    },
    {
      "cell_type": "code",
      "execution_count": null,
      "id": "e9ff0318",
      "metadata": {
        "id": "e9ff0318",
        "colab": {
          "base_uri": "https://localhost:8080/"
        },
        "outputId": "2b63bd80-aa8e-4050-d3ca-cc811c19e339"
      },
      "outputs": [
        {
          "output_type": "stream",
          "name": "stdout",
          "text": [
            "Testando a função de predição:\n",
            "Frase: 'sinto uma dor muito forte no peito e estou suando frio' -> Risco: alto risco\n",
            "Frase: 'estou com um pouco de tosse e dor de cabeça leve' -> Risco: baixo risco\n",
            "Frase: 'minha perna está dormente e não consigo mexer o braço' -> Risco: alto risco\n",
            "Frase: 'senti um pequeno desconforto no estômago depois de comer' -> Risco: baixo risco\n",
            "Frase: 'febre alta e dificuldade para respirar' -> Risco: alto risco\n"
          ]
        }
      ],
      "source": [
        "def predict_risk(phrase):\n",
        "    # Carregar o modelo e o vetorizador (se não estiverem já carregados)\n",
        "    if not os.path.exists('risk_classifier_model.pkl') or not os.path.exists('tfidf_vectorizer.pkl'):\n",
        "        print('Erro: Modelo ou vetorizador não encontrados. Certifique-se de que foram salvos.')\n",
        "        return None\n",
        "\n",
        "    loaded_model = joblib.load('risk_classifier_model.pkl')\n",
        "    loaded_vectorizer = joblib.load('tfidf_vectorizer.pkl')\n",
        "\n",
        "    # Vetorizar a frase de entrada\n",
        "    phrase_vec = loaded_vectorizer.transform([phrase])\n",
        "    # Fazer a predição\n",
        "    prediction = loaded_model.predict(phrase_vec)\n",
        "    return prediction[0]\n",
        "\n",
        "# Testando a função de predição\n",
        "print('Testando a função de predição:')\n",
        "test_phrases = [\n",
        "    'sinto uma dor muito forte no peito e estou suando frio',\n",
        "    'estou com um pouco de tosse e dor de cabeça leve',\n",
        "    'minha perna está dormente e não consigo mexer o braço',\n",
        "    'senti um pequeno desconforto no estômago depois de comer',\n",
        "    'febre alta e dificuldade para respirar'\n",
        "]\n",
        "\n",
        "for phrase in test_phrases:\n",
        "    risk = predict_risk(phrase)\n",
        "    print(f\"Frase: '{phrase}' -> Risco: {risk}\")"
      ]
    }
  ],
  "metadata": {
    "colab": {
      "provenance": [],
      "gpuType": "T4"
    },
    "language_info": {
      "name": "python"
    },
    "kernelspec": {
      "name": "python3",
      "display_name": "Python 3"
    },
    "accelerator": "GPU"
  },
  "nbformat": 4,
  "nbformat_minor": 5
}